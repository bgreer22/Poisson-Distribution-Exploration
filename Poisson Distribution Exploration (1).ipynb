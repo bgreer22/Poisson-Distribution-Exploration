{
 "cells": [
  {
   "cell_type": "markdown",
   "id": "ea8084c9",
   "metadata": {},
   "source": [
    "# Poisson Distribution Exploration"
   ]
  },
  {
   "cell_type": "markdown",
   "id": "431d5321",
   "metadata": {},
   "source": [
    "The Poisson distribution is used when we are interested in calculating the probability that an event will have a certain number of occurrences in a fixed interval of time. For example, the number of product defects that a factory will discover on any given day.\n",
    "\n",
    "A Poisson distribution is characterized by a certain lambda value, $λ$. It so happens that under the Poisson distribution, this value is equal to both the __expected value__ of the distribution, as well as the __variance__ of the distribution. Formally, we define the Poisson distribution for a given $λ$ and a given number of occurrences $k$ as:\n",
    "\n",
    "$$\n",
    "P(X=k) = \\frac{e^{-\\lambda} \\lambda^k}{k!}\n",
    "$$\n",
    "\n",
    "where $e$ is the base of the natural logarithm:\n",
    "$$\n",
    "e \\approx 2.71828\n",
    "$$"
   ]
  },
  {
   "cell_type": "markdown",
   "id": "baf2e551",
   "metadata": {},
   "source": [
    "In the example given above, $λ$ is the expected number of defects to be discovered on any given day, although in reality, the number of actual defects discovered on a particular day could be different.\n",
    "\n",
    "In this project, we will explore how we can use the properties of the Poisson distribution to calculate the probabilities of different numbers of defects being discovered. For this project, let's assume that $λ = 7$. Then the formula for our distribution becomes:\n",
    "\n",
    "$$\n",
    "P(X=k) = \\frac{e^{-7} 7^k}{k!}\n",
    "$$"
   ]
  },
  {
   "cell_type": "markdown",
   "id": "6c1baed2",
   "metadata": {},
   "source": [
    "We'll begin by importing the necessary Python libraries for the project: __numpy__ and the stats module within __scipy__. We'll also set $λ = 7$ to be used throughout the project. Using $λ$ instead of the number 7 will also help keep our code readable when we have several numerical arguments within a given method:"
   ]
  },
  {
   "cell_type": "code",
   "execution_count": 1,
   "id": "f678613a",
   "metadata": {},
   "outputs": [],
   "source": [
    "# Import numpy and scipy.stats\n",
    "import numpy as np\n",
    "import scipy.stats as stats\n",
    "\n",
    "# Set λ = 7\n",
    "λ = 7"
   ]
  },
  {
   "cell_type": "markdown",
   "id": "2717bc71",
   "metadata": {},
   "source": [
    "Let's begin by calculating the probability that the number of defects found on a particular day will actually be equal to 7. Since the Poisson distribution is a _discrete_ probability distribution, it takes on a countable number of values. Therefore, we can use a probability mass function (PMF) to calculate the probability of an exact number of occurrences rather than only a range of values (as would be the case for a continuous random variable):"
   ]
  },
  {
   "cell_type": "code",
   "execution_count": 2,
   "id": "ffe9c972",
   "metadata": {},
   "outputs": [
    {
     "data": {
      "text/plain": [
       "14.900277967433773"
      ]
     },
     "execution_count": 2,
     "metadata": {},
     "output_type": "execute_result"
    }
   ],
   "source": [
    "# Calculate the probability of λ under the Poisson distribution\n",
    "prob_λ = stats.poisson.pmf(λ, λ) * 100\n",
    "\n",
    "# Display prob_λ\n",
    "prob_λ"
   ]
  },
  {
   "cell_type": "markdown",
   "id": "4da122b9",
   "metadata": {},
   "source": [
    "Given that the expected value $\\lambda$ of our distribution is 7, the probability that we actually encounter exactly 7 defects on any given day is 14.9%. Note that the above syntax includes multiplication by 100, so prob_λ is a _percentage_. Without the multiplication by 100, we would get a decimal value (.0149...) between 0 and 1, as would be expected."
   ]
  },
  {
   "cell_type": "markdown",
   "id": "30dc12e5",
   "metadata": {},
   "source": [
    "An exceptionally good day for the factory occurs when no more than 4 defects are found in one day. What is the probability of this occurring?\n",
    "\n",
    "We are now interested in the probability of 4 _or fewer_ defects, so we are interested in the probability of 0, 1, 2, 3, _or_ 4 defects. We could calculate the probability of each possibility individually using the probability mass function, but it will be more efficient to instead use a cumulative density function (CDF) with 4 as our given parameter. This will calculate the probability of all possible values for 4 or fewer:\n",
    "\n",
    "$$\n",
    "P(X \\leq 4) = \\sum_{i=0}^{4} \\frac{e^{-7} \\times 7^i}{i!}\n",
    "$$"
   ]
  },
  {
   "cell_type": "code",
   "execution_count": 3,
   "id": "ee4bea53",
   "metadata": {},
   "outputs": [
    {
     "data": {
      "text/plain": [
       "17.299160788207146"
      ]
     },
     "execution_count": 3,
     "metadata": {},
     "output_type": "execute_result"
    }
   ],
   "source": [
    "# Calculate the probability of 4 or less under the Poisson distribution\n",
    "fewer_than_4 = stats.poisson.cdf(4, λ) * 100\n",
    "\n",
    "# Display fewer_than_4\n",
    "fewer_than_4"
   ]
  },
  {
   "cell_type": "markdown",
   "id": "69958381",
   "metadata": {},
   "source": [
    "Again, we multiplied by 100, so the probability that the factory will find 4 or fewer defects in one day is 17.3%."
   ]
  },
  {
   "cell_type": "markdown",
   "id": "d974c5b4",
   "metadata": {},
   "source": [
    "On the other hand, the factory views more than 9 defects as a bad day. What is the probability of this happening?\n",
    "\n",
    "Note that the wording here tells us that 9 is _not_ to be included in our calculation. To most effectively calculate this, it is more advantageous to calculate the _complement_ of what we're asked. If the probability of event $A$ is given by $P(A)$, then the probability of the complement of $A$, denoted as $P(A')$ is given by:\n",
    "\n",
    "$$ P(A') = 1 - P(A) $$\n",
    "\n",
    "\n",
    "The complement of \"more than 9\" is \"9 or fewer\". We then subtract the probability of 9 or fewer defects being found from 1 to obtain the probability of more than 9 defects being found. \n",
    "\n",
    "We again use a cumulative density function to calculate the probability of 9 or fewer defects occurring and subtract this value from 1:\n",
    "\n",
    "$$\n",
    "P(X > 9) = 1 - \\sum_{i=0}^{9} \\frac{e^{-7} \\times 7^i}{i!}\n",
    "$$\n",
    "\n",
    "In Python code, we write:"
   ]
  },
  {
   "cell_type": "code",
   "execution_count": 4,
   "id": "e6d8177d",
   "metadata": {},
   "outputs": [
    {
     "data": {
      "text/plain": [
       "16.950406276132668"
      ]
     },
     "execution_count": 4,
     "metadata": {},
     "output_type": "execute_result"
    }
   ],
   "source": [
    "# Calculate the probability of 9 or more occurrences\n",
    "more_than_9 = (1 - stats.poisson.cdf(9, λ)) * 100\n",
    "\n",
    "# Display more_than_9\n",
    "more_than_9"
   ]
  },
  {
   "cell_type": "markdown",
   "id": "62fab13e",
   "metadata": {},
   "source": [
    "The probability of more than 9 occurrences on a given day is 16.95%."
   ]
  },
  {
   "cell_type": "markdown",
   "id": "1d1ef6e3",
   "metadata": {},
   "source": [
    "Now that we've looked at a few examples of probabilities for only one day, let's look at probabilities on a larger scale. Let's say the factory wants to track information about the number of defects over 1 year. While a real factory would certainly not be open every day of the year, let's assume for simplicity's sake that it is. If the factory records the number of defects found at the end of the day, we'd have a list of 365 values. \n",
    "\n",
    "Let's create an experiment that simulates this.\n",
    "\n",
    "First, we want to create a set of 365 randomly-generated values given the Poisson distribution with $λ = 7$. In this case, we'll use the random variate sample (RVS) method:"
   ]
  },
  {
   "cell_type": "code",
   "execution_count": 5,
   "id": "73041a4e",
   "metadata": {},
   "outputs": [
    {
     "data": {
      "text/plain": [
       "array([ 3,  9,  6,  5,  7,  8,  5,  6,  5,  7,  6,  5,  5,  6,  9,  4,  5,\n",
       "        5,  6,  5, 10,  6, 12,  2, 11,  1,  5,  7,  9,  3, 11,  9,  7,  3,\n",
       "        5,  4,  3,  7,  7,  2,  7,  7,  8,  5,  9, 10,  6,  6,  9,  2, 14,\n",
       "        4,  7,  6,  7,  6,  5,  6,  9,  5,  3,  2,  4,  9,  5,  7,  6, 12,\n",
       "        9,  5,  7,  8,  8,  2,  9,  5, 12,  3,  6,  7,  4,  7,  5,  5,  6,\n",
       "        8,  5,  9,  7,  6,  7,  9,  7,  9, 10, 10,  8, 13, 11, 12,  9,  4,\n",
       "       10,  6, 11, 11,  8,  7,  9,  9, 10,  7, 12,  3,  6, 12,  6,  6, 11,\n",
       "       11,  9,  7,  4,  8,  2,  8,  7,  3,  9, 10,  4,  7, 12,  8,  9,  9,\n",
       "        7,  6,  9,  8,  1,  6, 13, 12,  6,  9,  6, 10,  9,  3,  5,  2, 10,\n",
       "        7,  9,  6, 12,  7,  9, 10,  7, 10,  4, 12,  8,  7,  4, 11, 12,  7,\n",
       "        8,  8,  5,  7,  9, 10,  6,  9, 10,  9, 15,  9,  9,  8,  5,  5,  4,\n",
       "        9,  7,  8, 11,  6,  6,  5, 10,  8,  4,  5,  3,  6,  6, 10,  4,  6,\n",
       "        6, 11,  7,  6,  9, 11, 11,  5,  6,  8,  3,  6,  8, 10,  6,  4,  3,\n",
       "        8, 11,  6,  5,  2,  7,  8, 12, 11,  7,  5,  6,  4,  6,  7,  6, 11,\n",
       "        6,  3,  7, 11,  5,  5,  7,  9,  7,  4,  6,  5,  9,  8,  8,  4, 12,\n",
       "        5,  6,  8,  2,  4,  5,  7, 11,  4,  5,  5,  8,  7,  9, 12,  5,  6,\n",
       "        7,  9,  5,  8, 13, 10,  5,  9,  4,  4,  5, 12,  8, 11,  5,  8,  4,\n",
       "        4,  6,  9, 11,  7,  7,  7,  7,  9, 12,  3,  9,  5,  6,  5,  3,  3,\n",
       "        9,  4,  5,  8,  7,  5, 10,  9,  3,  7,  4,  7,  4,  5,  9,  5,  7,\n",
       "       10,  6,  8,  9,  9,  7, 10,  5,  3,  8,  3,  8,  7,  6,  2,  7,  4,\n",
       "        8,  6,  8,  8,  9, 10,  6,  6,  9,  9, 12,  6,  9, 10,  6,  3,  3,\n",
       "        7,  6,  8,  7,  6,  6,  9, 11])"
      ]
     },
     "execution_count": 5,
     "metadata": {},
     "output_type": "execute_result"
    }
   ],
   "source": [
    "# Randomly generate 365 values under the given Poisson distribution\n",
    "year_defects = stats.poisson.rvs(λ, size = 365)\n",
    "\n",
    "# Display year_defects\n",
    "year_defects"
   ]
  },
  {
   "cell_type": "markdown",
   "id": "bb32ed84",
   "metadata": {},
   "source": [
    "Because the values are randomly generated, running the function again will yield a different random set of 365 values:"
   ]
  },
  {
   "cell_type": "code",
   "execution_count": 6,
   "id": "8e61ccf0",
   "metadata": {},
   "outputs": [
    {
     "data": {
      "text/plain": [
       "array([ 8,  9,  5,  5,  6,  7,  5,  9,  4,  6,  6,  6,  9,  8, 13,  6,  5,\n",
       "        7,  4,  8,  7,  9,  2, 11,  9,  8,  7,  8, 11,  3,  3,  3, 12,  8,\n",
       "        4, 15, 13,  8, 11, 10,  4,  5,  5,  2,  6,  7,  9,  5,  7,  8, 11,\n",
       "        4,  4,  2,  6,  5,  8, 12,  6, 10,  8,  8,  3,  9,  9,  7,  3,  8,\n",
       "       10,  9,  4,  6,  8,  7,  8,  9, 11,  3,  4,  5,  6,  4,  7,  2,  5,\n",
       "        7,  7,  9,  4, 12,  7,  8,  9,  7,  5, 10,  4,  7, 10, 13,  7,  8,\n",
       "        9,  2,  5,  9,  3,  5,  8,  6,  9,  7,  9,  4, 10,  7,  9,  9,  7,\n",
       "        8, 10,  4,  9,  8,  4,  5,  8, 11, 13,  4,  8, 13,  6,  7,  6,  7,\n",
       "        8,  5,  7,  9,  4, 11,  6,  8,  6,  6,  6,  9,  7,  4,  8, 11, 11,\n",
       "        7, 10,  6,  7, 10,  3,  7,  6,  6,  6,  5,  7,  9, 11,  7,  5, 12,\n",
       "        6, 10,  5, 15,  6,  3,  5,  9,  9,  9,  9,  8,  6,  3, 12,  5,  6,\n",
       "        8,  9,  5,  5,  7,  7,  6,  4,  8,  6,  7,  5,  7,  7,  8, 12, 11,\n",
       "        8,  8,  3,  5,  4,  7, 10,  5,  8,  7, 10, 10,  2,  8, 12,  6, 11,\n",
       "        8,  8,  5,  8,  5,  6,  8,  6,  2,  9,  4,  8,  7,  9,  9,  5,  8,\n",
       "        8,  8,  8,  5,  6,  3,  8,  3,  9,  6,  8,  7,  5,  9,  4,  4,  5,\n",
       "        7,  5,  5,  7,  9,  6, 10,  8,  9, 10,  9,  6,  5, 10,  7,  4,  9,\n",
       "        6,  5,  7,  8, 10,  9,  7, 11,  8,  5,  9,  8,  5,  7,  8,  7,  6,\n",
       "        5,  7, 10,  6, 10,  7,  7,  1,  6,  6, 10,  7, 10,  7,  8,  7, 10,\n",
       "        9,  6,  6,  8, 10, 10,  7,  4,  6,  3,  7,  3, 13,  9,  3,  6,  5,\n",
       "        5,  8,  7,  7,  9,  3,  8, 10,  5,  7,  5,  4, 11,  2, 11,  7,  8,\n",
       "       10, 10,  5,  9, 14,  6, 11, 10,  9,  8,  7, 14,  3,  8, 10,  9, 12,\n",
       "        5,  2,  6,  7,  9,  3,  9,  5])"
      ]
     },
     "execution_count": 6,
     "metadata": {},
     "output_type": "execute_result"
    }
   ],
   "source": [
    "# Randomly generate 365 values under the given Poisson distribution\n",
    "year_defects = stats.poisson.rvs(λ, size = 365)\n",
    "\n",
    "# Display year_defects\n",
    "year_defects"
   ]
  },
  {
   "cell_type": "markdown",
   "id": "06ab499b",
   "metadata": {},
   "source": [
    "Since we are simulating an experiment and want to make the results reproducible for a reader, we can choose a random seed value that will produce the same random variate sample each time we run it. We'll follow the custom of using a random seed value of 42 and redefine the variables year_defects after doing so:"
   ]
  },
  {
   "cell_type": "code",
   "execution_count": 7,
   "id": "e22b9e48",
   "metadata": {},
   "outputs": [
    {
     "data": {
      "text/plain": [
       "array([ 6,  7,  6,  7,  7,  4, 12,  2,  7,  5,  7,  6, 10,  3,  6, 12,  5,\n",
       "        6,  9,  6, 10,  4,  4,  7,  8, 11,  3,  2, 10,  6,  9,  6, 10, 10,\n",
       "       14,  3,  5,  7,  8,  3,  7, 10,  2,  5,  6,  6,  7,  7,  3,  5, 12,\n",
       "       10,  4, 12,  6,  4,  5, 11,  3,  3,  9,  6,  9,  9, 16,  5,  7, 13,\n",
       "       10,  5,  3, 11,  8,  3,  4,  5,  3,  6,  6,  8,  7,  5,  7,  6,  8,\n",
       "        4,  6, 10,  6,  6,  5, 10,  7,  7,  9,  9,  9,  8,  8,  7,  9,  8,\n",
       "        8,  3,  8,  7,  4,  5,  5,  7,  7,  4,  4,  5,  9,  2,  8,  8,  6,\n",
       "        8,  4,  4,  9,  4,  7,  6,  6,  8,  5, 12,  8, 10,  4,  6,  6, 16,\n",
       "        4,  1,  8, 11,  5, 10,  6,  9,  6, 14,  8,  8,  8,  9,  6,  7,  9,\n",
       "        8, 10,  6,  7,  8,  6,  1,  7,  5,  4,  3,  6,  4,  9,  8,  6, 11,\n",
       "        6,  7, 11,  8,  8,  7,  8,  7,  4,  6,  5,  8,  7, 10, 10, 15,  3,\n",
       "        7,  8, 10,  3,  5,  7,  6,  9, 11,  7,  6,  5, 10,  5,  5,  8,  9,\n",
       "        5, 11,  8,  6, 10,  9, 11,  4,  5,  6,  5,  6,  4, 10,  5,  4,  3,\n",
       "        9,  7,  9,  9,  4,  3,  8,  4,  6,  5, 12,  7, 14,  5, 11,  5,  7,\n",
       "        6,  6, 10,  3,  5,  9,  7,  8,  9,  3,  9,  6,  9,  5,  6,  5,  6,\n",
       "        8,  5,  7,  8,  7,  4, 11,  5, 12, 10,  6,  9,  3,  9,  9,  5, 11,\n",
       "        6,  5, 11,  8,  8,  9,  3,  8,  5,  8, 13,  7,  8,  3,  7,  1,  2,\n",
       "        7,  8, 11,  3,  6,  4,  6,  8,  3,  4, 14,  8,  4,  6,  8,  4,  4,\n",
       "       11,  9,  4,  8,  7, 10, 11, 13,  7,  8,  6,  8,  8,  4,  6,  5,  8,\n",
       "        9,  9,  5,  4,  4,  2,  6, 10,  2, 10,  8, 11,  7,  4,  4,  2,  5,\n",
       "       10,  4,  5,  9,  4,  9,  6,  8,  5,  8,  6,  7, 10, 13,  6,  3,  7,\n",
       "        7, 11,  6,  2, 13,  8,  5,  9])"
      ]
     },
     "execution_count": 7,
     "metadata": {},
     "output_type": "execute_result"
    }
   ],
   "source": [
    "# Set random seed = 42\n",
    "np.random.seed(42)\n",
    "\n",
    "# Randomly generate 365 values under the given Poisson distribution\n",
    "year_defects = stats.poisson.rvs(λ, size = 365)\n",
    "\n",
    "# Display year_defects\n",
    "year_defects"
   ]
  },
  {
   "cell_type": "markdown",
   "id": "d996098a",
   "metadata": {},
   "source": [
    "Now, no matter how many times we run the code in cell 14, \"year_defects\" will always be assigned the same exact values. We demonstrate this below:"
   ]
  },
  {
   "cell_type": "code",
   "execution_count": 8,
   "id": "cb975dd7",
   "metadata": {},
   "outputs": [
    {
     "data": {
      "text/plain": [
       "array([ 6,  7,  6,  7,  7,  4, 12,  2,  7,  5,  7,  6, 10,  3,  6, 12,  5,\n",
       "        6,  9,  6, 10,  4,  4,  7,  8, 11,  3,  2, 10,  6,  9,  6, 10, 10,\n",
       "       14,  3,  5,  7,  8,  3,  7, 10,  2,  5,  6,  6,  7,  7,  3,  5, 12,\n",
       "       10,  4, 12,  6,  4,  5, 11,  3,  3,  9,  6,  9,  9, 16,  5,  7, 13,\n",
       "       10,  5,  3, 11,  8,  3,  4,  5,  3,  6,  6,  8,  7,  5,  7,  6,  8,\n",
       "        4,  6, 10,  6,  6,  5, 10,  7,  7,  9,  9,  9,  8,  8,  7,  9,  8,\n",
       "        8,  3,  8,  7,  4,  5,  5,  7,  7,  4,  4,  5,  9,  2,  8,  8,  6,\n",
       "        8,  4,  4,  9,  4,  7,  6,  6,  8,  5, 12,  8, 10,  4,  6,  6, 16,\n",
       "        4,  1,  8, 11,  5, 10,  6,  9,  6, 14,  8,  8,  8,  9,  6,  7,  9,\n",
       "        8, 10,  6,  7,  8,  6,  1,  7,  5,  4,  3,  6,  4,  9,  8,  6, 11,\n",
       "        6,  7, 11,  8,  8,  7,  8,  7,  4,  6,  5,  8,  7, 10, 10, 15,  3,\n",
       "        7,  8, 10,  3,  5,  7,  6,  9, 11,  7,  6,  5, 10,  5,  5,  8,  9,\n",
       "        5, 11,  8,  6, 10,  9, 11,  4,  5,  6,  5,  6,  4, 10,  5,  4,  3,\n",
       "        9,  7,  9,  9,  4,  3,  8,  4,  6,  5, 12,  7, 14,  5, 11,  5,  7,\n",
       "        6,  6, 10,  3,  5,  9,  7,  8,  9,  3,  9,  6,  9,  5,  6,  5,  6,\n",
       "        8,  5,  7,  8,  7,  4, 11,  5, 12, 10,  6,  9,  3,  9,  9,  5, 11,\n",
       "        6,  5, 11,  8,  8,  9,  3,  8,  5,  8, 13,  7,  8,  3,  7,  1,  2,\n",
       "        7,  8, 11,  3,  6,  4,  6,  8,  3,  4, 14,  8,  4,  6,  8,  4,  4,\n",
       "       11,  9,  4,  8,  7, 10, 11, 13,  7,  8,  6,  8,  8,  4,  6,  5,  8,\n",
       "        9,  9,  5,  4,  4,  2,  6, 10,  2, 10,  8, 11,  7,  4,  4,  2,  5,\n",
       "       10,  4,  5,  9,  4,  9,  6,  8,  5,  8,  6,  7, 10, 13,  6,  3,  7,\n",
       "        7, 11,  6,  2, 13,  8,  5,  9])"
      ]
     },
     "execution_count": 8,
     "metadata": {},
     "output_type": "execute_result"
    }
   ],
   "source": [
    "# Set random seed = 42\n",
    "np.random.seed(42)\n",
    "\n",
    "# Randomly generate 365 values under the given Poisson distribution\n",
    "year_defects = stats.poisson.rvs(λ, size = 365)\n",
    "\n",
    "# Display year_defects\n",
    "year_defects"
   ]
  },
  {
   "cell_type": "markdown",
   "id": "38e32381",
   "metadata": {},
   "source": [
    "Let's explore these values a bit more. First, let's calculate the _expected_ number of defects to be found given a Poisson distribution with $λ = 7$. Since we're interested in how many defects we expect to find in 365 days, we just multiple $λ$ by 365:"
   ]
  },
  {
   "cell_type": "code",
   "execution_count": 9,
   "id": "505bcadb",
   "metadata": {},
   "outputs": [
    {
     "data": {
      "text/plain": [
       "2555"
      ]
     },
     "execution_count": 9,
     "metadata": {},
     "output_type": "execute_result"
    }
   ],
   "source": [
    "# Calculate the expected number of defects in one year\n",
    "λ * 365"
   ]
  },
  {
   "cell_type": "markdown",
   "id": "6114fedc",
   "metadata": {},
   "source": [
    "Under our given Poisson distribution, we would expect to find 2555 defects.\n",
    "\n",
    "How does our randomly generated list compare?"
   ]
  },
  {
   "cell_type": "code",
   "execution_count": 10,
   "id": "be4d71a7",
   "metadata": {},
   "outputs": [
    {
     "data": {
      "text/plain": [
       "2534"
      ]
     },
     "execution_count": 10,
     "metadata": {},
     "output_type": "execute_result"
    }
   ],
   "source": [
    "# Calculate the total number of defects found in the list year_defects \n",
    "np.sum(year_defects)"
   ]
  },
  {
   "cell_type": "markdown",
   "id": "c5705246",
   "metadata": {},
   "source": [
    "This does not seem extraordinarily far off from the expected value above, but since this is a _random_ sample, we should expect to see some variation. Let's see what happens when we change the value of our random seed to 10:"
   ]
  },
  {
   "cell_type": "code",
   "execution_count": 11,
   "id": "99804cd0",
   "metadata": {},
   "outputs": [
    {
     "data": {
      "text/plain": [
       "array([ 5,  6, 10, 10,  4,  9,  7,  7,  4,  6,  7,  6,  9,  7,  5,  6,  5,\n",
       "        8, 10,  7,  4, 12,  7,  6,  7,  9,  7,  2,  6,  9,  9,  8,  9,  8,\n",
       "        4,  8,  7,  6,  6,  6,  4,  5,  8,  9,  6,  6,  7,  8,  7,  3,  2,\n",
       "        6, 11,  7,  6,  9,  7,  8,  1,  8, 13,  7,  4,  4,  3,  5,  4, 10,\n",
       "        5,  4,  5,  4,  2, 10,  2,  4,  6,  9,  6,  5,  7,  8,  8,  4,  4,\n",
       "        9,  5,  4,  6, 11,  8, 12,  3,  8, 10,  7,  7,  7,  9,  4,  9, 11,\n",
       "        8,  7, 13,  9,  8,  7,  4,  6,  9,  7,  6, 10,  6,  8,  5, 12,  6,\n",
       "       10, 10,  4,  7,  4,  6,  4,  7,  3,  6,  7,  6,  8,  6,  7,  7,  5,\n",
       "        5,  9,  8,  9,  4,  9,  5,  8,  8,  9,  6,  2,  1, 10,  5,  7,  6,\n",
       "        9, 10,  6, 10,  3,  4, 11,  7,  8,  3,  8, 13,  7,  7,  6,  6,  8,\n",
       "        2,  9,  7,  4,  8, 10,  5, 13,  3,  7,  7,  5,  6, 10,  7, 11,  9,\n",
       "        9,  8,  8,  8,  8, 10,  6,  5,  6,  3, 11,  6,  7,  7,  4, 14, 11,\n",
       "       11,  6,  7,  4,  6,  9,  4,  6,  8,  9,  5,  5,  5,  8,  4,  7,  6,\n",
       "        5,  8,  5, 13,  3, 12,  6,  6,  2,  5, 11, 10,  6,  5,  8,  5,  9,\n",
       "       10,  8,  7,  9,  9,  3, 10,  3,  3, 10,  7,  6,  7,  7,  5,  9,  7,\n",
       "        6,  3,  3, 11,  6, 11,  6,  9,  5,  7,  4,  3, 12,  7,  6,  3,  4,\n",
       "        4,  5,  6,  6,  6, 11,  4,  6,  7,  2,  4, 12,  5,  3,  5, 10,  8,\n",
       "        8,  7,  5,  7,  7,  5,  6,  3,  6,  5,  4,  9,  9,  8, 10,  5,  3,\n",
       "        9,  5,  8,  7,  5,  7,  6,  6,  7,  8,  8,  5, 10,  8,  8,  7, 10,\n",
       "        4,  7, 10,  5, 11,  4,  4,  7,  5,  8,  2,  4,  8,  6,  9,  5,  4,\n",
       "        7, 12,  3,  7,  8,  7,  5, 10,  5,  4,  9, 10,  1,  9,  7,  3,  4,\n",
       "        5,  5, 11,  8,  8,  3,  6,  4])"
      ]
     },
     "execution_count": 11,
     "metadata": {},
     "output_type": "execute_result"
    }
   ],
   "source": [
    "# Set the random seed value to 10\n",
    "np.random.seed(10)\n",
    "\n",
    "# Generate a new random sample under the Poisson distribution\n",
    "year_defects2 = stats.poisson.rvs(λ, size = 365)\n",
    "\n",
    "# Generate year_defects2\n",
    "year_defects2"
   ]
  },
  {
   "cell_type": "markdown",
   "id": "10cf0cdd",
   "metadata": {},
   "source": [
    "Now let's calculate the new sum:"
   ]
  },
  {
   "cell_type": "code",
   "execution_count": 12,
   "id": "d6bace79",
   "metadata": {},
   "outputs": [
    {
     "data": {
      "text/plain": [
       "2462"
      ]
     },
     "execution_count": 12,
     "metadata": {},
     "output_type": "execute_result"
    }
   ],
   "source": [
    "# Calculate the sum of our new set\n",
    "np.sum(year_defects2)"
   ]
  },
  {
   "cell_type": "markdown",
   "id": "121d45a8",
   "metadata": {},
   "source": [
    "This is a difference of almost 100 - much more substantial. Let's also calculate the mean of both lists:"
   ]
  },
  {
   "cell_type": "code",
   "execution_count": 13,
   "id": "4d9d61e5",
   "metadata": {},
   "outputs": [
    {
     "data": {
      "text/plain": [
       "(6.942465753424657, 6.745205479452054)"
      ]
     },
     "execution_count": 13,
     "metadata": {},
     "output_type": "execute_result"
    }
   ],
   "source": [
    "# Calculate the means\n",
    "np.mean(year_defects), np.mean(year_defects2)"
   ]
  },
  {
   "cell_type": "markdown",
   "id": "70a61370",
   "metadata": {},
   "source": [
    "Neither are quite equal to our $λ$ value of 7. Should we be worried about this?\n",
    "\n",
    "Since we've generated lists one at a time, we should expect to see some variation. However, by the Law of Large Numbers, if we generate enough lists, we should expect the calculated values to converge to the theoretical values. Let's explore this by generating 500 different samples:"
   ]
  },
  {
   "cell_type": "code",
   "execution_count": 14,
   "id": "184e598d",
   "metadata": {},
   "outputs": [],
   "source": [
    "# Create an empty list\n",
    "year_lists = []\n",
    "\n",
    "# Set the seed value to 42\n",
    "np.random.seed(42)\n",
    "\n",
    "# Create a \"for\" loop that generates 500 sample sets under our distribution and append each set to year_lists\n",
    "for i in range(500):\n",
    "    rvs = stats.poisson.rvs(λ, size = 365)\n",
    "    year_lists.append(rvs)"
   ]
  },
  {
   "cell_type": "markdown",
   "id": "a092765f",
   "metadata": {},
   "source": [
    "Now let's find the total number of defects for each of the 500 trials:"
   ]
  },
  {
   "cell_type": "code",
   "execution_count": 15,
   "id": "42ee1b74",
   "metadata": {},
   "outputs": [
    {
     "data": {
      "text/plain": [
       "2555.976"
      ]
     },
     "execution_count": 15,
     "metadata": {},
     "output_type": "execute_result"
    }
   ],
   "source": [
    "# Create an empty list to store our sums\n",
    "list_of_sums = []\n",
    "\n",
    "# Create a \"for\" loop to loop over the elements of year_lists, finding the sum of each list and appending it to list_of_sums\n",
    "for list in year_lists:\n",
    "    sum = np.sum(list)\n",
    "    list_of_sums.append(sum)\n",
    "\n",
    "# Calculate the average sum\n",
    "np.mean(list_of_sums)"
   ]
  },
  {
   "cell_type": "markdown",
   "id": "1e0c03fd",
   "metadata": {},
   "source": [
    "We see that the average number of defects across our 500 simulations is almost exactly our expected value."
   ]
  },
  {
   "cell_type": "markdown",
   "id": "6a0d2e4a",
   "metadata": {},
   "source": [
    "Let's return to our 1st random generated list, year_defects, with with a random seed value of 42:"
   ]
  },
  {
   "cell_type": "code",
   "execution_count": 16,
   "id": "0c5aa4e6",
   "metadata": {},
   "outputs": [
    {
     "data": {
      "text/plain": [
       "array([ 6,  7,  6,  7,  7,  4, 12,  2,  7,  5,  7,  6, 10,  3,  6, 12,  5,\n",
       "        6,  9,  6, 10,  4,  4,  7,  8, 11,  3,  2, 10,  6,  9,  6, 10, 10,\n",
       "       14,  3,  5,  7,  8,  3,  7, 10,  2,  5,  6,  6,  7,  7,  3,  5, 12,\n",
       "       10,  4, 12,  6,  4,  5, 11,  3,  3,  9,  6,  9,  9, 16,  5,  7, 13,\n",
       "       10,  5,  3, 11,  8,  3,  4,  5,  3,  6,  6,  8,  7,  5,  7,  6,  8,\n",
       "        4,  6, 10,  6,  6,  5, 10,  7,  7,  9,  9,  9,  8,  8,  7,  9,  8,\n",
       "        8,  3,  8,  7,  4,  5,  5,  7,  7,  4,  4,  5,  9,  2,  8,  8,  6,\n",
       "        8,  4,  4,  9,  4,  7,  6,  6,  8,  5, 12,  8, 10,  4,  6,  6, 16,\n",
       "        4,  1,  8, 11,  5, 10,  6,  9,  6, 14,  8,  8,  8,  9,  6,  7,  9,\n",
       "        8, 10,  6,  7,  8,  6,  1,  7,  5,  4,  3,  6,  4,  9,  8,  6, 11,\n",
       "        6,  7, 11,  8,  8,  7,  8,  7,  4,  6,  5,  8,  7, 10, 10, 15,  3,\n",
       "        7,  8, 10,  3,  5,  7,  6,  9, 11,  7,  6,  5, 10,  5,  5,  8,  9,\n",
       "        5, 11,  8,  6, 10,  9, 11,  4,  5,  6,  5,  6,  4, 10,  5,  4,  3,\n",
       "        9,  7,  9,  9,  4,  3,  8,  4,  6,  5, 12,  7, 14,  5, 11,  5,  7,\n",
       "        6,  6, 10,  3,  5,  9,  7,  8,  9,  3,  9,  6,  9,  5,  6,  5,  6,\n",
       "        8,  5,  7,  8,  7,  4, 11,  5, 12, 10,  6,  9,  3,  9,  9,  5, 11,\n",
       "        6,  5, 11,  8,  8,  9,  3,  8,  5,  8, 13,  7,  8,  3,  7,  1,  2,\n",
       "        7,  8, 11,  3,  6,  4,  6,  8,  3,  4, 14,  8,  4,  6,  8,  4,  4,\n",
       "       11,  9,  4,  8,  7, 10, 11, 13,  7,  8,  6,  8,  8,  4,  6,  5,  8,\n",
       "        9,  9,  5,  4,  4,  2,  6, 10,  2, 10,  8, 11,  7,  4,  4,  2,  5,\n",
       "       10,  4,  5,  9,  4,  9,  6,  8,  5,  8,  6,  7, 10, 13,  6,  3,  7,\n",
       "        7, 11,  6,  2, 13,  8,  5,  9])"
      ]
     },
     "execution_count": 16,
     "metadata": {},
     "output_type": "execute_result"
    }
   ],
   "source": [
    "# Set random seed = 42\n",
    "np.random.seed(42)\n",
    "\n",
    "# Randomly generate 365 values under the given Poisson distribution\n",
    "year_defects = stats.poisson.rvs(λ, size = 365)\n",
    "\n",
    "# Display year_defects\n",
    "year_defects"
   ]
  },
  {
   "cell_type": "markdown",
   "id": "6c25e0d0",
   "metadata": {},
   "source": [
    "Let's say we want to know on what value $x$ the 90% percentile falls: in other words, on 90% of days, we can expect to find $x$ or fewer defects. This is identical to asking the question: for what value $x$ will the cumulative distribution function of $x$ under a given probability distribution be equal to .90: \n",
    "\n",
    "$$P(X \\leq x) = 0.90 = \\sum_{k=0}^{x} \\frac{e^{-7} 7^k}{k!}$$\n",
    "\n",
    "\n",
    "\n",
    "In Python, we're asking for what value $x$ will the running the code stats.poisson.cdf(x, λ) output .90?\n",
    "\n",
    "In scipy.stats, we can use the probability point function (PPF) to do this:"
   ]
  },
  {
   "cell_type": "code",
   "execution_count": 17,
   "id": "5fcfbafe",
   "metadata": {},
   "outputs": [
    {
     "data": {
      "text/plain": [
       "10.0"
      ]
     },
     "execution_count": 17,
     "metadata": {},
     "output_type": "execute_result"
    }
   ],
   "source": [
    "# Set x equal to the probability point function of .90 under the given Poisson distribution\n",
    "x = stats.poisson.ppf(.90, λ)\n",
    "\n",
    "# Display x\n",
    "x"
   ]
  },
  {
   "cell_type": "markdown",
   "id": "0c1ae551",
   "metadata": {},
   "source": [
    "We verify this result by entering 10 as our parameter into scipy's CDF method:"
   ]
  },
  {
   "cell_type": "code",
   "execution_count": 18,
   "id": "105b2aeb",
   "metadata": {},
   "outputs": [
    {
     "data": {
      "text/plain": [
       "0.9014792058890873"
      ]
     },
     "execution_count": 18,
     "metadata": {},
     "output_type": "execute_result"
    }
   ],
   "source": [
    "# Calculate the cumulative distribution function at 10 of our Poisson distribution\n",
    "stats.poisson.cdf(10, λ)"
   ]
  },
  {
   "cell_type": "markdown",
   "id": "646409f9",
   "metadata": {},
   "source": [
    "This is the same as saying that the 90th percentile of the data is 10, or that 90% of the time we should encounter 10 or fewer defects on any given day."
   ]
  },
  {
   "cell_type": "markdown",
   "id": "88f2dd7d",
   "metadata": {},
   "source": [
    "Let's look at the maximum and minimum of this data set and calculate the probability of getting each one:"
   ]
  },
  {
   "cell_type": "code",
   "execution_count": 19,
   "id": "96d95cf1",
   "metadata": {},
   "outputs": [
    {
     "name": "stdout",
     "output_type": "stream",
     "text": [
      "The probability of finding more than 16 defects or fewer is 0.10%.\n",
      "The probability of finding more than 1 defect or fewer is 99.27%.\n"
     ]
    }
   ],
   "source": [
    "# Calculate the maximum and minimum of our list year_defects and their respective CDFs\n",
    "max = np.max(year_defects)\n",
    "min = np.min(year_defects)\n",
    "cdf_max = stats.poisson.cdf(max, λ)\n",
    "cdf_min = stats.poisson.cdf(min, λ)\n",
    "\n",
    "# Print the results\n",
    "print(f\"The probability of finding more than {max} defects or fewer is {(1 - cdf_max) *100:.2f}%.\")\n",
    "print(f\"The probability of finding more than {min} defect or fewer is {(1 - cdf_min) * 100:.2f}%.\")"
   ]
  },
  {
   "cell_type": "markdown",
   "id": "cba5a34e",
   "metadata": {},
   "source": [
    "In this project, we explore a number of properties of the Poisson distribution&mdash;a discrete probability distribution that can be used to calculate the probability of a particular number of occurrences of an event in a certain period of time given a mean value. In particular, we've see we can use the random variate sample method in scipy.stats to simulate real-life data and compare it to theoretical values and how these values become identical under the Law of Large Numbers. We've also seen how the probability point function is the inverse of the cumulative density function, allowing us to calculate percentiles under the distribution."
   ]
  }
 ],
 "metadata": {
  "kernelspec": {
   "display_name": "Python 3 (ipykernel)",
   "language": "python",
   "name": "python3"
  },
  "language_info": {
   "codemirror_mode": {
    "name": "ipython",
    "version": 3
   },
   "file_extension": ".py",
   "mimetype": "text/x-python",
   "name": "python",
   "nbconvert_exporter": "python",
   "pygments_lexer": "ipython3",
   "version": "3.10.9"
  }
 },
 "nbformat": 4,
 "nbformat_minor": 5
}
